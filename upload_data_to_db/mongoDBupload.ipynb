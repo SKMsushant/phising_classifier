{
 "cells": [
  {
   "cell_type": "code",
   "execution_count": 2,
   "id": "c2ece220-5d0d-4a02-b393-fc46cadcbf32",
   "metadata": {},
   "outputs": [],
   "source": [
    "import os"
   ]
  },
  {
   "cell_type": "code",
   "execution_count": 3,
   "id": "eb00023c-b605-4461-8634-8e8a5c103fc3",
   "metadata": {},
   "outputs": [],
   "source": [
    "from dotenv import load_dotenv"
   ]
  },
  {
   "cell_type": "code",
   "execution_count": 4,
   "id": "465e4ca4-5e7e-466a-b577-871dfdb2a20b",
   "metadata": {},
   "outputs": [],
   "source": [
    "load_dotenv()\n",
    "database_url=os.getenv(\"MONGO_DB_URL\")"
   ]
  },
  {
   "cell_type": "code",
   "execution_count": 5,
   "id": "7c910b1d-51d2-4cc6-8a3a-0336849b739a",
   "metadata": {},
   "outputs": [],
   "source": [
    "from pymongo import MongoClient"
   ]
  },
  {
   "cell_type": "code",
   "execution_count": 6,
   "id": "25235861-feca-49e3-b7e8-43c9ed977c43",
   "metadata": {},
   "outputs": [
    {
     "name": "stdout",
     "output_type": "stream",
     "text": [
      "['phising_data', 'admin', 'local']\n"
     ]
    }
   ],
   "source": [
    "client=MongoClient(database_url)\n",
    "print(client.list_database_names())"
   ]
  },
  {
   "cell_type": "code",
   "execution_count": 7,
   "id": "029683bf-a986-4374-ae86-7cea22562816",
   "metadata": {},
   "outputs": [],
   "source": [
    "import csv\n",
    "def upload_files_mongodb(csv_path,conn_string,database_name,collection_name):\n",
    "\n",
    "\n",
    "    try:\n",
    "        client=MongoClient(conn_string)\n",
    "        db=client[database_name]\n",
    "        collection=db[collection_name]\n",
    "\n",
    "        with open(csv_path,\"r\",encoding='utf-8') as csvfile:\n",
    "            reader=csv.DictReader(csvfile)\n",
    "            data=list(reader)\n",
    "\n",
    "            if data:\n",
    "                result=collection.insert_many(data)\n",
    "                print(f\"Inserted {len(result.inserted_ids)}\")\n",
    "            else:\n",
    "                print(\"csv file is empty\")\n",
    "\n",
    "    except FileNotFoundError:\n",
    "        print(f\"Error: csv file not found at {csv_path}\")\n",
    "    except Exception as e:\n",
    "        print(f\"An error occured: {e}\")\n",
    "    finally:\n",
    "        if 'Client' in locals() and client:\n",
    "            client.close()"
   ]
  },
  {
   "cell_type": "code",
   "execution_count": 8,
   "id": "35fb59a2-96ef-43b8-a6c5-b1d86a90d282",
   "metadata": {},
   "outputs": [
    {
     "name": "stdout",
     "output_type": "stream",
     "text": [
      "Inserted 11055\n"
     ]
    }
   ],
   "source": [
    "upload_files_mongodb(csv_path=r\"E:\\ml_project\\phising_classifier\\phising_classifier\\phising_classifier\\upload_data_to_db\\phising_08012020_120000.csv\",conn_string=url,database_name=\"phising_data\",collection_name=\"phising_08012020_120000\")"
   ]
  },
  {
   "cell_type": "code",
   "execution_count": null,
   "id": "23306881-d9c2-40eb-91c2-47d90a0954a1",
   "metadata": {},
   "outputs": [],
   "source": []
  }
 ],
 "metadata": {
  "kernelspec": {
   "display_name": "Python 3 (ipykernel)",
   "language": "python",
   "name": "python3"
  },
  "language_info": {
   "codemirror_mode": {
    "name": "ipython",
    "version": 3
   },
   "file_extension": ".py",
   "mimetype": "text/x-python",
   "name": "python",
   "nbconvert_exporter": "python",
   "pygments_lexer": "ipython3",
   "version": "3.12.7"
  }
 },
 "nbformat": 4,
 "nbformat_minor": 5
}
